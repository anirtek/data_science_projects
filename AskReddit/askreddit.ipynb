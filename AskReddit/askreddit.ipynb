{
 "cells": [
  {
   "cell_type": "markdown",
   "metadata": {},
   "source": [
    "# \"AskReddit\" - Data Analytics on Redit Web-scraped data"
   ]
  },
  {
   "cell_type": "markdown",
   "metadata": {},
   "source": [
    "Reddit is a content and community website where users can submit links, text posts, and other types of content to groups of people with similar interests. These groups are called subreddits, and each one specializes in a particular topic. For example, AskReddit is a popular subreddit where you can pose questions to the entire Reddit community. Users answer the questions by commenting on them.\n",
    "\n",
    "I have worked with a data set containing the top 1,000 questions users posted to AskReddit in 2015. Reddit user P_S_Laplace created the data set, which has five columns that appear in the following order:\n",
    "1. Title -- The title of the post\n",
    "2. Score -- The number of upvotes the post received\n",
    "3. Time -- When the post was posted\n",
    "4. Gold -- How much Reddit Gold users gave the post\n",
    "5. NumComs -- The number of comments the post received"
   ]
  },
  {
   "cell_type": "markdown",
   "metadata": {},
   "source": [
    "## 1. Introduction, Wildcards in Regular Expressions, Searching the Beginnings And Endings Of Strings ##"
   ]
  },
  {
   "cell_type": "code",
   "execution_count": 54,
   "metadata": {},
   "outputs": [],
   "source": [
    "strings = [\"data science\", \"big data\", \"metadata\"]\n",
    "regex = \"data\"\n",
    "\n",
    "strings = [\"bat\", \"robotics\", \"megabyte\"]\n",
    "regex = \"..t\"\n",
    "\n",
    "strings = [\"better not put too much\", \"butter in the\", \"batter\"]\n",
    "bad_string = \"We also wouldn't want it to be bitter\"\n",
    "regex = \"^b.....\"\n",
    "\n",
    "strings = ['War of 1812', 'There are 5280 feet to a mile', 'Happy New Year 2016!']"
   ]
  },
  {
   "cell_type": "code",
   "execution_count": null,
   "metadata": {},
   "outputs": [],
   "source": []
  },
  {
   "cell_type": "code",
   "execution_count": null,
   "metadata": {},
   "outputs": [],
   "source": []
  },
  {
   "cell_type": "code",
   "execution_count": null,
   "metadata": {},
   "outputs": [],
   "source": []
  },
  {
   "cell_type": "markdown",
   "metadata": {},
   "source": [
    "## 2. Reading the dataset"
   ]
  },
  {
   "cell_type": "code",
   "execution_count": null,
   "metadata": {},
   "outputs": [],
   "source": []
  },
  {
   "cell_type": "markdown",
   "metadata": {},
   "source": [
    "* Use the csv module to read our data set and assign it to posts_with_header.\n",
    "* Use list slicing to exclude the first row, which represents the column names. Assign this sliced data set to posts.\n",
    "* Use a for loop and string slicing to print the first 10 rows. See if you notice any patterns in this sample of the data set."
   ]
  },
  {
   "cell_type": "code",
   "execution_count": null,
   "metadata": {},
   "outputs": [],
   "source": []
  },
  {
   "cell_type": "code",
   "execution_count": null,
   "metadata": {},
   "outputs": [],
   "source": []
  },
  {
   "cell_type": "code",
   "execution_count": null,
   "metadata": {},
   "outputs": [],
   "source": []
  },
  {
   "cell_type": "code",
   "execution_count": 27,
   "metadata": {},
   "outputs": [
    {
     "name": "stdout",
     "output_type": "stream",
     "text": [
      "['What\\'s your internet \"white whale\", something you\\'ve been searching for years to find with no luck?', '11510', '1433213314.0', '1', '26195']\n",
      "[\"What's your favorite video that is 10 seconds or less?\", '8656', '1434205517.0', '4', '8479']\n",
      "['What are some interesting tests you can take to find out about yourself?', '8480', '1443409636.0', '1', '4055']\n",
      "[\"PhD's of Reddit. What is a dumbed down summary of your thesis?\", '7927', '1440188623.0', '0', '13201']\n",
      "['What is cool to be good at, yet uncool to be REALLY good at?', '7711', '1440082910.0', '0', '20325']\n",
      "['[Serious] Redditors currently in a relationship, besides dinner and a movie, what are your favorite activities for date night?', '7598', '1439993280.0', '2', '5389']\n",
      "[\"Parents of Reddit, what's something that your kid has done that you pretended to be angry about but secretly impressed or amused you?\", '7553', '1439161809.0', '0', '11520']\n",
      "['What is a good subreddit to binge read the All Time Top Posts of?', '7498', '1438822288.0', '0', '2780']\n",
      "['What would the person who named Walkie Talkies have named other items?', '7501', '1447904351.0', '4', '6720']\n",
      "[\"People who grew up in a different socioeconomic class as your significant others, what are the notable differences you've noticed and how does it affect your relationship (if at all)?\", '7419', '1440358069.0', '0', '8603']\n"
     ]
    }
   ],
   "source": [
    "import csv\n",
    "posts_with_header = list(csv.reader(open(\"askreddit_2015.csv\")))\n",
    "posts = posts_with_header[1:]\n",
    "for each in posts[:10] :\n",
    "    print(each)"
   ]
  },
  {
   "cell_type": "code",
   "execution_count": null,
   "metadata": {},
   "outputs": [],
   "source": []
  },
  {
   "cell_type": "markdown",
   "metadata": {},
   "source": [
    "We can know from above result that the format of out data is in following format - \n",
    "List of [questions title, number of scores, System time, Reddit Gold status, Number of comments/answers to this question]"
   ]
  },
  {
   "cell_type": "markdown",
   "metadata": {},
   "source": [
    "## 2. Counting Simple Matches in the Data Set with re() package of python"
   ]
  },
  {
   "cell_type": "code",
   "execution_count": 47,
   "metadata": {},
   "outputs": [
    {
     "name": "stdout",
     "output_type": "stream",
     "text": [
      "Reddit Count:  76\n"
     ]
    }
   ],
   "source": [
    "import re\n",
    "of_reddit_count = 0\n",
    "for each in posts :\n",
    "    if re.search(\"of Reddit\", each[0]):\n",
    "        of_reddit_count += 1\n",
    "print(\"Reddit Count: \", of_reddit_count)"
   ]
  },
  {
   "cell_type": "markdown",
   "metadata": {},
   "source": [
    "We counted the number of posts in our data set that match the regex \"of Reddit\". Also assigned the count to of_reddit_count. There are in total 76 posts/questions that has included the string \"of Reddit\" and are concerned about reddit posts."
   ]
  },
  {
   "cell_type": "markdown",
   "metadata": {},
   "source": [
    "## 3. Using Square Brackets to Match Multiple Characters ##"
   ]
  },
  {
   "cell_type": "code",
   "execution_count": 29,
   "metadata": {},
   "outputs": [
    {
     "name": "stdout",
     "output_type": "stream",
     "text": [
      "76 102\n"
     ]
    }
   ],
   "source": [
    "import re\n",
    "of_reddit_count = 0\n",
    "of_reddit_count_old = 0\n",
    "for row in posts:\n",
    "    if re.search(\"of Reddit\", row[0]) is not None:\n",
    "        of_reddit_count_old += 1\n",
    "for row in posts:\n",
    "    if re.search(\"of [Rr]eddit\", row[0]) is not None:\n",
    "        of_reddit_count += 1\n",
    "print(of_reddit_count_old, of_reddit_count)"
   ]
  },
  {
   "cell_type": "markdown",
   "metadata": {},
   "source": [
    "If you look at the data set closely, you may notice that some posts use \"of Reddit\", and others use \"of reddit\". While both versions have the same format, the capitalization of \"Reddit\" is different. We can account for this inconsistency with square brackets. We use square brackets in a regex to indicate that any character within them can fill the space.\n",
    "\n",
    "For example, the regex \"[bcr]at\" would match the substrings \"bat\", \"cat\", and \"rat\", but nothing else. We indicate that the first character in the regex can be either \"b\", \"c\" or \"r\"."
   ]
  },
  {
   "cell_type": "code",
   "execution_count": null,
   "metadata": {},
   "outputs": [],
   "source": []
  },
  {
   "cell_type": "markdown",
   "metadata": {},
   "source": [
    "## 4. Escaping Special Characters ##"
   ]
  },
  {
   "cell_type": "code",
   "execution_count": null,
   "metadata": {},
   "outputs": [],
   "source": []
  },
  {
   "cell_type": "code",
   "execution_count": 30,
   "metadata": {},
   "outputs": [
    {
     "name": "stdout",
     "output_type": "stream",
     "text": [
      "69\n"
     ]
    }
   ],
   "source": [
    "serious_count = 0\n",
    "for each in posts :\n",
    "    if re.search(\"\\[Serious\\]\", each[0]) is not None:\n",
    "        serious_count += 1\n",
    "print(serious_count)"
   ]
  },
  {
   "cell_type": "code",
   "execution_count": null,
   "metadata": {},
   "outputs": [],
   "source": []
  },
  {
   "cell_type": "markdown",
   "metadata": {},
   "source": [
    "## 5. Combining Escaped Characters and Multiple Matches ##"
   ]
  },
  {
   "cell_type": "markdown",
   "metadata": {},
   "source": [
    "Some people tag serious posts as \"[Serious]\", and others as \"[serious]\". We should account for both capitalizations."
   ]
  },
  {
   "cell_type": "code",
   "execution_count": 31,
   "metadata": {},
   "outputs": [
    {
     "name": "stdout",
     "output_type": "stream",
     "text": [
      "69 77\n"
     ]
    }
   ],
   "source": [
    "serious_count = 0\n",
    "serious_count_old = 0\n",
    "for row in posts:\n",
    "    if re.search(\"\\[Serious\\]\", row[0]) is not None:\n",
    "        serious_count_old += 1\n",
    "     \n",
    "for row in posts:\n",
    "    if re.search(\"\\[[sS]erious\\]\", row[0]) is not None:\n",
    "        serious_count += 1\n",
    "        \n",
    "print(serious_count_old, serious_count)"
   ]
  },
  {
   "cell_type": "markdown",
   "metadata": {},
   "source": [
    "## 6. Adding More Complexity to Your Regular Expression ##"
   ]
  },
  {
   "cell_type": "markdown",
   "metadata": {},
   "source": [
    "Some users have tagged their posts with \"(Serious)\" or \"(serious)\", including the parentheses. Therefore, we should account for both square brackets and parentheses. We can do this by using square bracket notation, and escaping the \"[\", \"]\", \"(\", and \")\" characters with the backslash."
   ]
  },
  {
   "cell_type": "code",
   "execution_count": 32,
   "metadata": {},
   "outputs": [
    {
     "name": "stdout",
     "output_type": "stream",
     "text": [
      "77 80\n"
     ]
    }
   ],
   "source": [
    "serious_count = 0\n",
    "serious_count_old = 0\n",
    "for row in posts:\n",
    "    if re.search(\"\\[[Ss]erious\\]\", row[0]) is not None:\n",
    "        serious_count_old += 1\n",
    "\n",
    "for row in posts:\n",
    "    if re.search(\"[\\[\\(][Ss]erious[\\]\\)]\", row[0]) is not None:\n",
    "        serious_count += 1\n",
    "\n",
    "print(serious_count_old, serious_count)"
   ]
  },
  {
   "cell_type": "code",
   "execution_count": null,
   "metadata": {},
   "outputs": [],
   "source": []
  },
  {
   "cell_type": "markdown",
   "metadata": {},
   "source": [
    "## 7. Combining Multiple Regular Expressions ##"
   ]
  },
  {
   "cell_type": "markdown",
   "metadata": {},
   "source": [
    "We should consider a post serious only if the tag occurs at the beginning or end of the title. To match titles with the tag at the beginning, we can use the \"^\" character in a regex. To match titles with the tag at the end, we can use \"$\". These characters produce two different regular expressions, and we'd like to identify all titles that match either of them."
   ]
  },
  {
   "cell_type": "code",
   "execution_count": 48,
   "metadata": {},
   "outputs": [
    {
     "name": "stdout",
     "output_type": "stream",
     "text": [
      "69\n",
      "11\n",
      "80\n"
     ]
    }
   ],
   "source": [
    "import re\n",
    "\n",
    "serious_start_count = 0\n",
    "serious_end_count = 0\n",
    "serious_count_final = 0\n",
    "\n",
    "for each in posts:\n",
    "    if re.search(\"^[\\[\\(][Ss]erious[\\]\\)]|[\\[\\(][Ss]erious[\\]\\)]$\", each[0]) is not None :\n",
    "        serious_count_final += 1\n",
    "\n",
    "for each in posts:\n",
    "    if re.search(\"^[\\[\\(][Ss]erious[\\)\\]]\", each[0]) is not None :\n",
    "        serious_start_count += 1\n",
    "\n",
    "for each in posts:\n",
    "    if re.search(\"[\\[\\(][Ss]erious[\\)\\]]$\", each[0]) is not None :\n",
    "        serious_end_count += 1\n",
    "\n",
    "print(serious_start_count)\n",
    "print(serious_end_count)\n",
    "print(serious_count_final)"
   ]
  },
  {
   "cell_type": "markdown",
   "metadata": {},
   "source": [
    "## 8. Using Regular Expressions to Substitute Strings ##"
   ]
  },
  {
   "cell_type": "markdown",
   "metadata": {},
   "source": [
    "Replace \"[serious]\", \"(Serious)\", and \"(serious)\" with \"[Serious]\" for all of the titles in posts."
   ]
  },
  {
   "cell_type": "code",
   "execution_count": 67,
   "metadata": {},
   "outputs": [
    {
     "name": "stdout",
     "output_type": "stream",
     "text": [
      "867\n"
     ]
    }
   ],
   "source": [
    "import re\n",
    "for each in posts:\n",
    "    each[0] = re.sub(\"[\\[\\(][Ss]erious[\\]\\)]\", \"[Serious]\", each[0])\n",
    "print(len(posts))"
   ]
  },
  {
   "cell_type": "markdown",
   "metadata": {},
   "source": [
    "## Final conclusion:"
   ]
  },
  {
   "cell_type": "code",
   "execution_count": null,
   "metadata": {},
   "outputs": [],
   "source": []
  }
 ],
 "metadata": {
  "kernelspec": {
   "display_name": "Python 3",
   "language": "python",
   "name": "python3"
  },
  "language_info": {
   "codemirror_mode": {
    "name": "ipython",
    "version": 3
   },
   "file_extension": ".py",
   "mimetype": "text/x-python",
   "name": "python",
   "nbconvert_exporter": "python",
   "pygments_lexer": "ipython3",
   "version": "3.6.4"
  }
 },
 "nbformat": 4,
 "nbformat_minor": 2
}
